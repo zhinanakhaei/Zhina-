{
  "nbformat": 4,
  "nbformat_minor": 0,
  "metadata": {
    "colab": {
      "provenance": [],
      "authorship_tag": "ABX9TyM5bTDHsgTLgluRadacMbs/",
      "include_colab_link": true
    },
    "kernelspec": {
      "name": "python3",
      "display_name": "Python 3"
    },
    "language_info": {
      "name": "python"
    }
  },
  "cells": [
    {
      "cell_type": "markdown",
      "metadata": {
        "id": "view-in-github",
        "colab_type": "text"
      },
      "source": [
        "<a href=\"https://colab.research.google.com/github/zhinanakhaei/Zhina-/blob/main/Untitled0.ipynb\" target=\"_parent\"><img src=\"https://colab.research.google.com/assets/colab-badge.svg\" alt=\"Open In Colab\"/></a>"
      ]
    },
    {
      "cell_type": "code",
      "execution_count": null,
      "metadata": {
        "colab": {
          "base_uri": "https://localhost:8080/"
        },
        "id": "3z3Fr3wgjQy3",
        "outputId": "8bfa79e6-3841-4818-8ae9-cabf89fe315b"
      },
      "outputs": [
        {
          "output_type": "stream",
          "name": "stdout",
          "text": [
            "a % b\n",
            "a // b\n",
            "a  b\n"
          ]
        }
      ],
      "source": [
        "# 1. Explore the %, //, and  operators with numerical examples.\n",
        "#از متغیر های موجود در قسمت Assigning variables استفاده میکنیم\n",
        "a = 2\n",
        "b = 4\n",
        "#برای نشون دادن عملگر ها نیاز داریم متغییر جدید تعریف کنیم\n",
        "c=(\"a % b\")\n",
        "d=(\"a // b\")\n",
        "e=(\"a  b\")\n",
        "#c باقیمانده تقسیم\n",
        "#d تقسیم\n",
        "#e توان\n",
        "print(c)\n",
        "print(d)\n",
        "print(e)"
      ]
    },
    {
      "cell_type": "code",
      "source": [
        "# 2. Check the type of %, //, and . What do you conclude?\n",
        "a = 2\n",
        "b = 4\n",
        "c = 3.5\n",
        "# وقتی هر دو عدد، عدد صحیح (int) باشند:\n",
        "type(\"a % b\")\n",
        "type(\"a // b\")\n",
        "type(\"a  b\")\n",
        "\n",
        "# اگر یکی از آنها اعشاری باشئ\n",
        "type(\"a % c\")\n",
        "type(\"a // c\")\n",
        "type(\"a ** c\")\n",
        "\n",
        "\n",
        "# پرینت\n",
        "print(type(\"a % b\"))\n",
        "print(type(\"a % c\"))\n",
        "\n",
        "#(نتیجه:\n",
        "#اگر هر دو عدد صحیح باشند، نتیجه نیز از نوع عدد صحیح است.\n",
        "#اگر یکی از آن‌ها اعشاری (float) باشد، نتیجه از نوع اعشاری خواهد بود.)"
      ],
      "metadata": {
        "colab": {
          "base_uri": "https://localhost:8080/"
        },
        "id": "semYKmgzjddM",
        "outputId": "31213eec-a4ef-492c-f215-d9dae4cc16e2"
      },
      "execution_count": null,
      "outputs": [
        {
          "output_type": "stream",
          "name": "stdout",
          "text": [
            "<class 'str'>\n",
            "<class 'str'>\n"
          ]
        }
      ]
    },
    {
      "cell_type": "code",
      "source": [
        "#3. Can you perform mathematical operations on sequential data types? Which types allow it, and with which types do errors occur?\n",
        "\n",
        "#نمونه متغیرها:\n",
        "string_1 = \"Hello\"\n",
        "list_1 = [\"Robert, 20, Marcus, 22\"]\n",
        "tuple_1 = (4, 5, 6)\n",
        "\n",
        "#عملیات مجاز\n",
        "string_1 * 2\n",
        "tuple_1 * 2\n",
        "list_1 + list_1\n",
        "#پرینت  مجاز ها\n",
        "print(string_1 * 2 )\n",
        "print(tuple_1 * 2 )\n",
        "print(list_1 + list_1)\n",
        "\n",
        "#عملیات غیر مجاز\n",
        "# tuple_1 / 2\n",
        "# data + data\n",
        "# set1 - set2\n",
        "\n",
        "#نتیجه:\n",
        "#در نوع‌های ترتیبی مثل رشته (string)، لیست (list) و تاپل (tuple) فقط عملگرهای + (اتصال) و * (تکرار) مجاز هستند.\n",
        "#اما در دیکشنری (dict) و مجموعه (set) نمی‌توان از این عملگرهای ریاضی به‌صورت مستقیم استفاده کرد."
      ],
      "metadata": {
        "colab": {
          "base_uri": "https://localhost:8080/"
        },
        "id": "deWGgfFxkFTY",
        "outputId": "179d4373-ea9a-409c-818e-e1165e6d4b48"
      },
      "execution_count": null,
      "outputs": [
        {
          "output_type": "stream",
          "name": "stdout",
          "text": [
            "HelloHello\n",
            "(4, 5, 6, 4, 5, 6)\n",
            "['Robert, 20, Marcus, 22', 'Robert, 20, Marcus, 22']\n"
          ]
        }
      ]
    }
  ]
}